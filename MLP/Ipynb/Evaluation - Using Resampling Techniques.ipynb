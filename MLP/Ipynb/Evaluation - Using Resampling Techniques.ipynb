{
 "cells": [
  {
   "cell_type": "code",
   "execution_count": 3,
   "metadata": {},
   "outputs": [],
   "source": [
    "#Evaluation of Algorithms : It is important to evaluate algorithms to check its performance on an unseen and totally \n",
    "#                              new data\n",
    "                              \n",
    "# There are four techniques for evaluations they are:\n",
    "# 1. Train and test datasets - The dataset is divided into two sets based one for training and the other for testing\n",
    "# 2. K-fold cross validation - split data into k sets (K-1 are used for training and 1 for testing)\n",
    "# 3. Leave one out cross validation - kfold with number of folds equal observations in dataset\n",
    "# 4. Repeated random test train splits - Splits data randomly"
   ]
  },
  {
   "cell_type": "code",
   "execution_count": 103,
   "metadata": {},
   "outputs": [
    {
     "name": "stdout",
     "output_type": "stream",
     "text": [
      "accuracy:  95.41984732824427\n",
      "95.41984732824427\n"
     ]
    }
   ],
   "source": [
    "# Train_test_split: Splits the data sets into two sets for training and testing\n",
    "\n",
    "# uses : Can be used for miliions of records of data (fast)\n",
    "#       Both test and train data are representational of underlying problem and are similar\n",
    "#       Ideal split would be 75% training and 25% testing\n",
    "import pandas as pd\n",
    "import numpy as np\n",
    "from sklearn import *\n",
    "from sklearn import metrics\n",
    "from sklearn.model_selection import cross_val_score\n",
    "from sklearn.model_selection import train_test_split\n",
    "from sklearn.svm import SVR\n",
    "from sklearn.preprocessing import MinMaxScaler\n",
    "df = pd.read_csv('C:\\\\Users\\\\vardh\\\\Vardhan\\\\ED\\\\breast_cancer_data.csv')\n",
    "df = df.drop(columns=df.iloc[:,[0,-1]])\n",
    "X = df.iloc[:,1::]\n",
    "Y = df.iloc[:,0]\n",
    "model = MinMaxScaler()\n",
    "fit = model.fit_transform(X)\n",
    "X_train,X_test,Y_train,Y_test = train_test_split(X,Y,test_size=0.23,random_state=7)\n",
    "model1 = SVC(kernel='linear')\n",
    "fit1 = model1.fit(X_train,Y_train)\n",
    "predict = fit1.predict(X_test)\n",
    "print('accuracy: ', metrics.accuracy_score(Y_test,predict).mean()*100)\n",
    "print(model1.score(X_test,Y_test)*100)"
   ]
  },
  {
   "cell_type": "code",
   "execution_count": 137,
   "metadata": {},
   "outputs": [
    {
     "name": "stdout",
     "output_type": "stream",
     "text": [
      "Normal accuracy:  95.41984732824427\n",
      "KFold accuracy:  93.68290160543683\n"
     ]
    }
   ],
   "source": [
    "# KFold cross validation\n",
    "\n",
    "import pandas as pd\n",
    "import numpy as np\n",
    "import sklearn \n",
    "from sklearn import metrics\n",
    "from sklearn.preprocessing import Normalizer\n",
    "from sklearn.model_selection import cross_val_score\n",
    "from sklearn.naive_bayes import GaussianNB \n",
    "from sklearn.model_selection import KFold\n",
    "df = pd.read_csv('C:\\\\Users\\\\vardh\\\\Vardhan\\\\ED\\\\breast_cancer_data.csv')\n",
    "df = df.drop(columns=df.iloc[:,[0,-1]])\n",
    "X = df.iloc[:,1::]\n",
    "Y = df.iloc[:,0]\n",
    "model = Normalizer()\n",
    "kf = KFold(n_splits = 4,random_state=7)\n",
    "fit = model.fit_transform(X)\n",
    "model1 = GaussianNB()\n",
    "fit1 = model1.fit(X_train,Y_train)\n",
    "predict_normal = fit1.predict(X_test) \n",
    "print('Normal accuracy: ',metrics.accuracy_score(predict_normal,Y_test)*100)\n",
    "print('KFold accuracy: ', cross_val_score(model1,X,Y,cv=kf).mean()*100)"
   ]
  },
  {
   "cell_type": "code",
   "execution_count": 164,
   "metadata": {},
   "outputs": [
    {
     "name": "stdout",
     "output_type": "stream",
     "text": [
      "0.9440559440559441\n",
      "Leave One Out accuracy:  95.07908611599298\n"
     ]
    }
   ],
   "source": [
    "import warnings\n",
    "warnings.filterwarnings('ignore')\n",
    "\n",
    "# Leave one Out cross vailidation\n",
    "import pandas as pd\n",
    "import numpy as np\n",
    "import sklearn\n",
    "from sklearn.model_selection import train_test_split\n",
    "from sklearn.preprocessing import StandardScaler\n",
    "from sklearn.linear_model import LogisticRegression\n",
    "from sklearn.model_selection import cross_val_score\n",
    "from sklearn.model_selection import LeaveOneOut\n",
    "from sklearn import metrics\n",
    "df = pd.read_csv('C:\\\\Users\\\\vardh\\\\Vardhan\\\\ED\\\\breast_cancer_data.csv')\n",
    "df = df.drop(columns=df.iloc[:,[0,-1]])\n",
    "X = df.iloc[:,1::]\n",
    "Y = df.iloc[:,0]\n",
    "model = StandardScaler()\n",
    "fit = model.fit_transform(X)\n",
    "X_train,X_test,Y_train,Y_test = train_test_split(X,Y,test_size=0.25,random_state=7)\n",
    "model1 = LeaveOneOut()\n",
    "estimator = LogisticRegression()\n",
    "fit1 = estimator.fit(X_train,Y_train)\n",
    "pred = fit1.predict(X_test)\n",
    "print(metrics.accuracy_score(pred,Y_test))\n",
    "accuracy = cross_val_score(estimator,X,Y,cv=model1)\n",
    "print('Leave One Out accuracy: ', accuracy.mean()*100)"
   ]
  },
  {
   "cell_type": "code",
   "execution_count": 178,
   "metadata": {},
   "outputs": [
    {
     "name": "stdout",
     "output_type": "stream",
     "text": [
      "accuracy score:  95.08771929824562\n"
     ]
    }
   ],
   "source": [
    "# shuffle splits - splits data randomly \n",
    "import numpy as np\n",
    "import pandas as pd\n",
    "import sklearn\n",
    "from sklearn.model_selection import ShuffleSplit\n",
    "from sklearn.model_selection import KFold\n",
    "from sklearn.linear_model import LogisticRegression\n",
    "df = pd.read_csv('C:\\\\Users\\\\vardh\\\\Vardhan\\\\ED\\\\breast_cancer_data.csv')\n",
    "df = df.drop(columns=df.iloc[:,[0,-1]])\n",
    "X = df.iloc[:,1::]\n",
    "Y = df.iloc[:,0]\n",
    "ss = ShuffleSplit(n_splits=15,test_size=0.20,random_state=7)\n",
    "model = LogisticRegression()\n",
    "print('accuracy score: ', cross_val_score(model,X,Y,cv=ss).mean()*100)"
   ]
  }
 ],
 "metadata": {
  "kernelspec": {
   "display_name": "Python 3",
   "language": "python",
   "name": "python3"
  },
  "language_info": {
   "codemirror_mode": {
    "name": "ipython",
    "version": 3
   },
   "file_extension": ".py",
   "mimetype": "text/x-python",
   "name": "python",
   "nbconvert_exporter": "python",
   "pygments_lexer": "ipython3",
   "version": "3.7.3"
  }
 },
 "nbformat": 4,
 "nbformat_minor": 2
}
