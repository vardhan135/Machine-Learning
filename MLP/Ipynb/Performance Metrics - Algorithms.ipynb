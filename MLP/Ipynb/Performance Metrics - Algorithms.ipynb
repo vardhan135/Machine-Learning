{
 "cells": [
  {
   "cell_type": "code",
   "execution_count": 1,
   "metadata": {},
   "outputs": [],
   "source": [
    "# Performance metrics: Check the various performance metrics of an algorithm for different parameters(k-fold &split ratio)\n",
    "\n",
    "# The performance metrics are chosen based on the kind of algorithms that are being used, they are different for algorithms\n",
    "# Classification algorithms: where the label consists of categorical data (nominal, ordinal)\n",
    "#            1. Logistic regression (supervised)\n",
    "#            2. Naive-Bayes Classifier (\")\n",
    "#            3. Nearest Neighbors (\")\n",
    "#            4. Decision tree (\")\n",
    "#            5. Random Forest (\")\n",
    "#            6. Neural Network (\")\n",
    "#            7. SVM - SVC (\")\n",
    "# Regression algorithms: where the label is continous and numeric \n",
    "#            1. Linear regression (supervised)\n",
    "#                  - LASSO regression\n",
    "#                  - Polynomial Regression\n",
    "#            2. Naive-Bayes Regressor (\")\n",
    "#            3. Nearest Neighbors (\")\n",
    "#            4. Decision tree Regressor (\")\n",
    "#            5. Random Forest (\")"
   ]
  },
  {
   "cell_type": "code",
   "execution_count": 2,
   "metadata": {},
   "outputs": [],
   "source": [
    "# Classification Algorithm Performance metrics:\n",
    "# 1. Classification Accuracy - Calculates ratio of correct predictions to all predictions\n",
    "#                            - Should only be used when there are equal samples of data\n",
    "# 2. Classification Report\n",
    "# 3. Confusion Matrix\n",
    "# 4. Area under ROC curve\n",
    "# 5. Logarithmic Loss"
   ]
  },
  {
   "cell_type": "code",
   "execution_count": 104,
   "metadata": {},
   "outputs": [
    {
     "name": "stdout",
     "output_type": "stream",
     "text": [
      "accuracy:  94.73370927318297 Std deviation:  3.1348505402369167\n",
      "accuracy:  -11.643444192931762 Std deviation:  3.690869303269288\n"
     ]
    }
   ],
   "source": [
    "# Classification Accuracy:\n",
    "import warnings\n",
    "warnings.filterwarnings('ignore')\n",
    "\n",
    "import pandas as pd\n",
    "import numpy as np\n",
    "import sklearn\n",
    "from sklearn import metrics\n",
    "from sklearn.model_selection import KFold\n",
    "from sklearn.model_selection import cross_val_score\n",
    "from sklearn.model_selection import ShuffleSplit\n",
    "from sklearn.linear_model import LogisticRegression\n",
    "from sklearn.svm import SVC \n",
    "df = pd.read_csv('C:\\\\Users\\\\vardh\\\\Vardhan\\\\ED\\\\breast_cancer_data.csv')\n",
    "df = df.drop(columns=df.iloc[:,[0,-1]])\n",
    "X = df.iloc[:,1::]\n",
    "Y = df.iloc[:,0]\n",
    "kf = KFold(n_splits=10,shuffle=True,random_state=7)\n",
    "model = SVC(kernel='linear')\n",
    "model1= LogisticRegression()\n",
    "accuracy = cross_val_score(model,X,Y,cv=kf,scoring='accuracy')\n",
    "accuracy1 = cross_val_score(model1,X,Y,cv=kf,scoring='neg_log_loss')\n",
    "accuracy2 = cross_val_score(model1,X,Y,cv=kf,scoring='roc_auc')\n",
    "models = [accuracy,accuracy1,accuracy2]\n",
    "print('accuracy: ' , accuracy.mean()*100,'Std deviation: ', accuracy.std()*100)\n",
    "print('accuracy: ' , accuracy1.mean()*100,'Std deviation: ', accuracy1.std()*100)"
   ]
  },
  {
   "cell_type": "code",
   "execution_count": 15,
   "metadata": {},
   "outputs": [
    {
     "name": "stdout",
     "output_type": "stream",
     "text": [
      "accuracy:  94.73370927318297 Std deviation:  3.1348505402369167\n",
      "accuracy:  -11.643444192931762 Std deviation:  3.690869303269288\n",
      "accuracy:  99.08338005200189 Std deviation:  0.71293166595404\n"
     ]
    }
   ],
   "source": [
    "for i in models:\n",
    "    print('accuracy: ' , i.mean()*100,'Std deviation: ', i.std()*100)"
   ]
  },
  {
   "cell_type": "code",
   "execution_count": 27,
   "metadata": {},
   "outputs": [
    {
     "name": "stdout",
     "output_type": "stream",
     "text": [
      "[[74  0]\n",
      " [ 6 34]]               precision    recall  f1-score   support\n",
      "\n",
      "           B       0.93      1.00      0.96        74\n",
      "           M       1.00      0.85      0.92        40\n",
      "\n",
      "    accuracy                           0.95       114\n",
      "   macro avg       0.96      0.93      0.94       114\n",
      "weighted avg       0.95      0.95      0.95       114\n",
      "\n"
     ]
    }
   ],
   "source": [
    "# Classification Accuracy and Confusion matrix\n",
    "import pandas as pd\n",
    "import numpy as np\n",
    "import sklearn\n",
    "from sklearn.metrics import confusion_matrix\n",
    "from sklearn.metrics import classification_report\n",
    "from sklearn.model_selection import train_test_split\n",
    "X_train,X_test,Y_train,Y_test = train_test_split(X,Y,test_size=0.20,random_state=7)\n",
    "fit1 = model.fit(X_train,Y_train)\n",
    "predict = fit1.predict(X_test)\n",
    "confusion = confusion_matrix(Y_test,predict)\n",
    "class_accuracy = classification_report(Y_test,predict)\n",
    "print(confusion,class_accuracy)"
   ]
  },
  {
   "cell_type": "code",
   "execution_count": 103,
   "metadata": {},
   "outputs": [
    {
     "name": "stdout",
     "output_type": "stream",
     "text": [
      "[-9.89291514e+09 -9.62235918e+09 -1.01635661e+10 -1.00690823e+10\n",
      " -1.01219079e+10 -1.02076960e+10 -9.98472428e+09 -9.33428217e+09\n",
      " -1.00708823e+10 -9.45122026e+09]\n",
      "[-76917.89794521 -76104.61242661 -78189.56829746 -77816.93470387\n",
      " -77556.42721488 -77820.52207538 -77090.31678904 -74142.73666177\n",
      " -77420.04052863 -74835.11923642]\n",
      "[0.30666989 0.25961662 0.23772368 0.22090808 0.23815569 0.27000195\n",
      " 0.27069482 0.28448713 0.27556317 0.19195744]\n"
     ]
    }
   ],
   "source": [
    "# Regression Metrics\n",
    "\n",
    "# 1. Mean Squared Error\n",
    "# 2. Mean Absolute Error\n",
    "# 3. R^2 (Goodness of Fit)\n",
    "from sklearn.preprocessing import Normalizer\n",
    "from sklearn.neighbors import KNeighborsRegressor\n",
    "from sklearn.feature_selection import SelectKBest\n",
    "from sklearn.feature_selection import chi2\n",
    "from sklearn.model_selection import cross_val_score\n",
    "from sklearn.preprocessing import OneHotEncoder\n",
    "df2 = pd.read_csv('C:\\\\Users\\\\vardh\\\\Vardhan\\\\ED\\\\housing.csv')\n",
    "df2 = df2.dropna()\n",
    "dummy = pd.get_dummies(df2['ocean_proximity'])\n",
    "df2 = pd.concat((df2,dummy),axis=1)\n",
    "df2 = df2.drop(columns='ocean_proximity')\n",
    "X = df2.iloc[:,df2.columns != 'median_house_value']\n",
    "Y = df2.iloc[:,8]\n",
    "kf= KFold(n_splits=10,shuffle=True,random_state=7)\n",
    "model_preprocess = Normalizer()\n",
    "fit1 = model_preprocess.fit_transform(X)\n",
    "model = KNeighborsRegressor()\n",
    "fit2 = model.fit(X,Y)\n",
    "new_data = [['-120','35','20','7000','1000','2100','1100','9.7','0','0','0','1','0']]\n",
    "new_data = model_preprocess.fit_transform(new_data)\n",
    "prediction = fit2.predict(new_data)\n",
    "metric1 = 'neg_mean_squared_error'\n",
    "metric2 = 'neg_mean_absolute_error'\n",
    "metric3 = 'r2'\n",
    "metrics = [metric1,metric2,metric3]\n",
    "for i in metrics:\n",
    "    print(cross_val_score(model,X,Y,cv=kf,scoring=i))"
   ]
  }
 ],
 "metadata": {
  "kernelspec": {
   "display_name": "Python 3",
   "language": "python",
   "name": "python3"
  },
  "language_info": {
   "codemirror_mode": {
    "name": "ipython",
    "version": 3
   },
   "file_extension": ".py",
   "mimetype": "text/x-python",
   "name": "python",
   "nbconvert_exporter": "python",
   "pygments_lexer": "ipython3",
   "version": "3.7.3"
  }
 },
 "nbformat": 4,
 "nbformat_minor": 2
}
