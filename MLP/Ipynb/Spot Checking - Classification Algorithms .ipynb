{
 "cells": [
  {
   "cell_type": "code",
   "execution_count": 1,
   "metadata": {},
   "outputs": [],
   "source": [
    "#Spot Checking Algorithm: Spot checking is done to understand which algorithm performs better on which data\n",
    "# 6 Classification Algorithms:\n",
    "\n",
    "# Linear Classification Algorithms:\n",
    "#   1. Logistic Regression\n",
    "#   2. Linear Discriminant Analysis\n",
    "\n",
    "# Non Linear Classification Algorithms:\n",
    "#   1. Support Vector Machines (SVC)\n",
    "#   2. Classification and Regression Tress \n",
    "#   3. Naive Bayes\n",
    "#   4. KNearestNeighbors"
   ]
  },
  {
   "cell_type": "code",
   "execution_count": 81,
   "metadata": {},
   "outputs": [
    {
     "data": {
      "text/plain": [
       "0    95.605927\n",
       "dtype: float64"
      ]
     },
     "execution_count": 81,
     "metadata": {},
     "output_type": "execute_result"
    }
   ],
   "source": [
    "import warnings\n",
    "warnings.filterwarnings('ignore')\n",
    "\n",
    "import pandas as pd\n",
    "import numpy as np\n",
    "import sklearn\n",
    "from sklearn.preprocessing import Normalizer\n",
    "from sklearn.feature_selection import SelectKBest\n",
    "from sklearn.feature_selection import chi2\n",
    "from sklearn.model_selection import KFold\n",
    "from sklearn.model_selection import cross_val_score\n",
    "from sklearn.linear_model import LogisticRegression\n",
    "from sklearn.discriminant_analysis import LinearDiscriminantAnalysis\n",
    "from sklearn.naive_bayes import GaussianNB\n",
    "from sklearn.neighbors import KNeighborsClassifier\n",
    "from sklearn.tree import DecisionTreeClassifier\n",
    "from sklearn.svm import SVC\n",
    "df = pd.read_csv('C:\\\\Users\\\\vardh\\\\Vardhan\\\\ED\\\\breast_cancer_data.csv')\n",
    "df = df.drop(columns=df.iloc[:,[0,-1]])\n",
    "X = df.iloc[:,1::]\n",
    "Y = df.iloc[:,0]\n",
    "kf = KFold(n_splits=8,shuffle=True,random_state=7)\n",
    "LR = LogisticRegression()\n",
    "LDA = LinearDiscriminantAnalysis()\n",
    "NB = GaussianNB()\n",
    "SVC = SVC()\n",
    "DTC = DecisionTreeClassifier()\n",
    "KNN = KNeighborsClassifier()\n",
    "models = [LR,LDA,NB,SVC,DTC,KNN]\n",
    "values = []\n",
    "for i in models:\n",
    "    a = cross_val_score(i,X,Y,cv=kf).mean()*100\n",
    "    values.append(a)\n",
    "Scores = pd.DataFrame(data = values,index=models)\n",
    "Scores.max()"
   ]
  }
 ],
 "metadata": {
  "kernelspec": {
   "display_name": "Python 3",
   "language": "python",
   "name": "python3"
  },
  "language_info": {
   "codemirror_mode": {
    "name": "ipython",
    "version": 3
   },
   "file_extension": ".py",
   "mimetype": "text/x-python",
   "name": "python",
   "nbconvert_exporter": "python",
   "pygments_lexer": "ipython3",
   "version": "3.7.3"
  }
 },
 "nbformat": 4,
 "nbformat_minor": 2
}
