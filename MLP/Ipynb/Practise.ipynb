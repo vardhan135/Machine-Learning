{
 "cells": [
  {
   "cell_type": "code",
   "execution_count": 1,
   "metadata": {},
   "outputs": [
    {
     "data": {
      "text/plain": [
       "array([67., 79., 75., 42.])"
      ]
     },
     "execution_count": 1,
     "metadata": {},
     "output_type": "execute_result"
    }
   ],
   "source": [
    "#Practise\n",
    "import pandas as pd\n",
    "import numpy as np\n",
    "import matplotlib.pyplot as plt\n",
    "from sklearn.linear_model import LinearRegression\n",
    "from sklearn.model_selection import train_test_split\n",
    "from sklearn.model_selection import cross_val_score\n",
    "df = pd.read_csv(\"C:\\\\Users\\\\vardh\\\\Vardhan\\\\ED\\\\timeseries.csv\")\n",
    "#print(df.describe())\n",
    "#plt.plot(df.iloc[:,0],df.iloc[:,1])\n",
    "#plt.xlabel('Days')\n",
    "#plt.ylabel('Demand')\n",
    "#for prediction testing\n",
    "X = df\n",
    "Y = df.iloc[:,1]\n",
    "score = 'r2'\n",
    "split = 0.33\n",
    "seed = 7\n",
    "model = LinearRegression()\n",
    "X_train,X_test,Y_train,Y_test = train_test_split(X,Y,test_size = split,random_state = seed)\n",
    "fit = model.fit(X_train,Y_train)\n",
    "result = fit.predict(X_test)\n",
    "result[:]"
   ]
  }
 ],
 "metadata": {
  "kernelspec": {
   "display_name": "Python 3",
   "language": "python",
   "name": "python3"
  },
  "language_info": {
   "codemirror_mode": {
    "name": "ipython",
    "version": 3
   },
   "file_extension": ".py",
   "mimetype": "text/x-python",
   "name": "python",
   "nbconvert_exporter": "python",
   "pygments_lexer": "ipython3",
   "version": "3.7.3"
  }
 },
 "nbformat": 4,
 "nbformat_minor": 2
}
