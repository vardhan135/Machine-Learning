{
 "cells": [
  {
   "cell_type": "code",
   "execution_count": 74,
   "metadata": {},
   "outputs": [
    {
     "name": "stdout",
     "output_type": "stream",
     "text": [
      "[[109  17]\n",
      " [ 23  43]]\n",
      "79.26617455492836\n"
     ]
    }
   ],
   "source": [
    "import pandas as pd\n",
    "import numpy as np\n",
    "import sklearn \n",
    "from sklearn.model_selection import train_test_split\n",
    "from sklearn.model_selection import cross_val_score\n",
    "from sklearn.metrics import confusion_matrix\n",
    "from sklearn.naive_bayes import GaussianNB\n",
    "data = pd.read_csv('C:\\\\Users\\\\vardh\\\\Vardhan\\\\ED\\\\diabetes.csv')\n",
    "data.head(5)\n",
    "X = data.iloc[:,0:7]\n",
    "Y = data['Outcome']\n",
    "X_train,X_test,Y_train,Y_test = train_test_split(X,Y,train_size=0.75,random_state=4)\n",
    "model = GaussianNB()\n",
    "model.fit(X_train,Y_train)\n",
    "predict = model.predict(X_test)\n",
    "print(confusion_matrix(Y_test,predict))\n",
    "print(cross_val_score(model,X_test,Y_test,cv=4).mean()*100)"
   ]
  },
  {
   "cell_type": "markdown",
   "metadata": {},
   "source": [
    "# for new data with following values the prediction is working"
   ]
  },
  {
   "cell_type": "code",
   "execution_count": 94,
   "metadata": {},
   "outputs": [
    {
     "name": "stdout",
     "output_type": "stream",
     "text": [
      "     a      b     c     d      e     f      g\n",
      "0  1.0  110.0  40.0  60.0  140.0  42.3  0.555\n",
      "No Diabetes\n"
     ]
    }
   ],
   "source": [
    "new_data = pd.DataFrame(np.array([[1,110,40,60,140,42.3,0.555]]),columns=('a','b','c','d','e','f','g'))\n",
    "print(new_data)\n",
    "predict1 = model.predict(new_data)\n",
    "if predict1 == 0:\n",
    "    print('No Diabetes')\n",
    "else:\n",
    "    print('Diabetes')"
   ]
  }
 ],
 "metadata": {
  "kernelspec": {
   "display_name": "Python 3",
   "language": "python",
   "name": "python3"
  },
  "language_info": {
   "codemirror_mode": {
    "name": "ipython",
    "version": 3
   },
   "file_extension": ".py",
   "mimetype": "text/x-python",
   "name": "python",
   "nbconvert_exporter": "python",
   "pygments_lexer": "ipython3",
   "version": "3.7.3"
  }
 },
 "nbformat": 4,
 "nbformat_minor": 2
}
