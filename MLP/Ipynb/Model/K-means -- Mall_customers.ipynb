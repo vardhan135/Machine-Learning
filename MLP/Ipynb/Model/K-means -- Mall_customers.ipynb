{
 "cells": [
  {
   "cell_type": "code",
   "execution_count": 53,
   "metadata": {
    "scrolled": true
   },
   "outputs": [
    {
     "name": "stdout",
     "output_type": "stream",
     "text": [
      "   CustomerID   Genre  Age  Annual Income (k$)  Spending Score (1-100)\n",
      "0           1    Male   19                  15                      39\n",
      "1           2    Male   21                  15                      81\n",
      "2           3  Female   20                  16                       6\n",
      "3           4  Female   23                  16                      77\n",
      "4           5  Female   31                  17                      40\n",
      "[[ 40.45238095   0.38095238  46.85714286  35.47619048  35.11904762]\n",
      " [162.           0.46153846  32.69230769  86.53846154  82.12820513]\n",
      " [164.           0.52777778  40.80555556  87.91666667  17.88888889]\n",
      " [ 96.01694915   0.42372881  41.55932203  59.05084746  49.03389831]\n",
      " [ 21.41666667   0.41666667  25.25        24.91666667  76.04166667]]\n"
     ]
    },
    {
     "data": {
      "image/png": "[encoded data removed]",
      "text/plain": [
       "<Figure size 432x288 with 1 Axes>"
      ]
     },
     "metadata": {
      "needs_background": "light"
     },
     "output_type": "display_data"
    }
   ],
   "source": [
    "import pandas as pd\n",
    "import numpy as np\n",
    "import matplotlib \n",
    "import matplotlib.pyplot as plt\n",
    "import sklearn\n",
    "from sklearn.model_selection import train_test_split\n",
    "from sklearn.cluster import KMeans\n",
    "data = pd.read_csv('C:\\\\Users\\\\vardh\\\\Vardhan\\\\ED\\\\Mall_Customers.csv')\n",
    "#data.plot(kind='scatter',x='Annual Income (k$)',y='Spending Score (1-100)')\n",
    "print(data.head())\n",
    "data['Genre'] = data['Genre'].astype('category')\n",
    "data['Genre'] = data['Genre'].cat.codes\n",
    "model = KMeans(n_clusters=5,random_state=7)\n",
    "fit = model.fit(data)\n",
    "cc = fit.cluster_centers_\n",
    "print(cc)\n",
    "plt.scatter(cc[:,0],cc[:,1])\n",
    "plt.show()"
   ]
  }
 ],
 "metadata": {
  "kernelspec": {
   "display_name": "Python 3",
   "language": "python",
   "name": "python3"
  },
  "language_info": {
   "codemirror_mode": {
    "name": "ipython",
    "version": 3
   },
   "file_extension": ".py",
   "mimetype": "text/x-python",
   "name": "python",
   "nbconvert_exporter": "python",
   "pygments_lexer": "ipython3",
   "version": "3.7.3"
  }
 },
 "nbformat": 4,
 "nbformat_minor": 2
}
