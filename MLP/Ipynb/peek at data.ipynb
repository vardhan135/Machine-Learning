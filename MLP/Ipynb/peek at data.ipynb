{
 "cells": [
  {
   "cell_type": "code",
   "execution_count": 31,
   "metadata": {},
   "outputs": [
    {
     "data": {
      "text/plain": [
       "Pregnancies                 0.901674\n",
       "Glucose                     0.173754\n",
       "BloodPressure              -1.843608\n",
       "SkinThickness               0.109372\n",
       "Insulin                     2.272251\n",
       "BMI                        -0.428982\n",
       "DiabetesPedigreeFunction    1.919911\n",
       "Age                         1.129597\n",
       "Outcome                     0.635017\n",
       "dtype: float64"
      ]
     },
     "execution_count": 31,
     "metadata": {},
     "output_type": "execute_result"
    }
   ],
   "source": [
    "import csv\n",
    "import numpy as np\n",
    "import pandas as pd\n",
    "df = pd.read_csv('C:\\\\Users\\\\vardh\\\\Vardhan\\\\ED\\\\diabetes.csv')\n",
    "#functions to look into data\n",
    "df.head(10)\n",
    "#dimensions of the data\n",
    "df.shape\n",
    "#data types of the data\n",
    "df.dtypes\n",
    "#descriptive statistics of the data\n",
    "df.describe()\n",
    "# counts based on class of a particular column\n",
    "df.groupby('Outcome').count()\n",
    "# understand the correlation of the given data\n",
    "df.corr(method='pearson')\n",
    "# understand the skew of the data = positive skew (Right), Negative Skew (left), 0 is better \"no Skew\"\n",
    "df.skew()"
   ]
  },
  {
   "cell_type": "code",
   "execution_count": 38,
   "metadata": {},
   "outputs": [
    {
     "data": {
      "image/png": "[encoded data removed]",
      "text/plain": [
       "<Figure size 288x288 with 1 Axes>"
      ]
     },
     "metadata": {
      "needs_background": "light"
     },
     "output_type": "display_data"
    }
   ],
   "source": [
    "#plotting correlation matrix\n",
    "import matplotlib.pyplot as plt\n",
    "plt.matshow(df.corr(method='pearson'))\n",
    "plt.show()"
   ]
  }
 ],
 "metadata": {
  "kernelspec": {
   "display_name": "Python 3",
   "language": "python",
   "name": "python3"
  },
  "language_info": {
   "codemirror_mode": {
    "name": "ipython",
    "version": 3
   },
   "file_extension": ".py",
   "mimetype": "text/x-python",
   "name": "python",
   "nbconvert_exporter": "python",
   "pygments_lexer": "ipython3",
   "version": "3.7.3"
  }
 },
 "nbformat": 4,
 "nbformat_minor": 2
}
