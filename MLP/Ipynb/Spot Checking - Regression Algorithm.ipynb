{
 "cells": [
  {
   "cell_type": "code",
   "execution_count": 23,
   "metadata": {},
   "outputs": [],
   "source": [
    "# Spot Checking : it is done to evaluate the performance of different kinds of algorithm on same sample data\n",
    "\n",
    "# Regression algorithms: evaluated using cross_val_score\n",
    "\n",
    "# Linear Algorithms:\n",
    "#  1. Linear Regression\n",
    "#  2. LASSO Regression\n",
    "#  3. Ridge Regression'\n",
    "#  4. ElasticNet Regression\n",
    "# Non Linear Algorithms\n",
    "#  1. Support Vector Machines\n",
    "#  2. Naive-Bayes (using GaussianNB)\n",
    "#  3. Classification and Regression Trees (Decision Tree)\n",
    "#  4. KNearestNeighbors"
   ]
  },
  {
   "cell_type": "code",
   "execution_count": 82,
   "metadata": {
    "slideshow": {
     "slide_type": "slide"
    }
   },
   "outputs": [],
   "source": [
    "# Importing libraries\n",
    "\n",
    "import pandas as pd\n",
    "import numpy as np\n",
    "import matplotlib.pyplot as plt\n",
    "import sklearn\n",
    "from sklearn.preprocessing import Normalizer\n",
    "from sklearn.decomposition import PCA\n",
    "from sklearn.model_selection import train_test_split\n",
    "from sklearn.model_selection import KFold\n",
    "from sklearn.model_selection import cross_val_score\n",
    "from sklearn.linear_model import LinearRegression\n",
    "from sklearn.linear_model import Lasso\n",
    "from sklearn.linear_model import Ridge\n",
    "from sklearn.linear_model import ElasticNet\n",
    "from sklearn.naive_bayes import GaussianNB\n",
    "from sklearn.svm import SVR\n",
    "from sklearn.tree import DecisionTreeRegressor\n",
    "from sklearn.neighbors import KNeighborsRegressor\n",
    "from sklearn.preprocessing import OneHotEncoder"
   ]
  },
  {
   "cell_type": "code",
   "execution_count": 124,
   "metadata": {},
   "outputs": [
    {
     "data": {
      "text/html": [
       "<div>\n",
       "<style scoped>\n",
       "    .dataframe tbody tr th:only-of-type {\n",
       "        vertical-align: middle;\n",
       "    }\n",
       "\n",
       "    .dataframe tbody tr th {\n",
       "        vertical-align: top;\n",
       "    }\n",
       "\n",
       "    .dataframe thead th {\n",
       "        text-align: right;\n",
       "    }\n",
       "</style>\n",
       "<table border=\"1\" class=\"dataframe\">\n",
       "  <thead>\n",
       "    <tr style=\"text-align: right;\">\n",
       "      <th></th>\n",
       "      <th>0</th>\n",
       "    </tr>\n",
       "  </thead>\n",
       "  <tbody>\n",
       "    <tr>\n",
       "      <th>LinearRegression(copy_X=True, fit_intercept=True, n_jobs=None, normalize=False)</th>\n",
       "      <td>73.995199</td>\n",
       "    </tr>\n",
       "    <tr>\n",
       "      <th>Lasso(alpha=1.0, copy_X=True, fit_intercept=True, max_iter=1000,\\n      normalize=False, positive=False, precompute=False, random_state=None,\\n      selection='cyclic', tol=0.0001, warm_start=False)</th>\n",
       "      <td>54.002430</td>\n",
       "    </tr>\n",
       "    <tr>\n",
       "      <th>Ridge(alpha=1.0, copy_X=True, fit_intercept=True, max_iter=None,\\n      normalize=False, random_state=None, solver='auto', tol=0.001)</th>\n",
       "      <td>71.958229</td>\n",
       "    </tr>\n",
       "    <tr>\n",
       "      <th>ElasticNet(alpha=1.0, copy_X=True, fit_intercept=True, l1_ratio=0.5,\\n           max_iter=1000, normalize=False, positive=False, precompute=False,\\n           random_state=None, selection='cyclic', tol=0.0001, warm_start=False)</th>\n",
       "      <td>60.793338</td>\n",
       "    </tr>\n",
       "    <tr>\n",
       "      <th>DecisionTreeRegressor(criterion='mse', max_depth=None, max_features=None,\\n                      max_leaf_nodes=None, min_impurity_decrease=0.0,\\n                      min_impurity_split=None, min_samples_leaf=1,\\n                      min_samples_split=2, min_weight_fraction_leaf=0.0,\\n                      presort=False, random_state=None, splitter='best')</th>\n",
       "      <td>72.818638</td>\n",
       "    </tr>\n",
       "    <tr>\n",
       "      <th>KNeighborsRegressor(algorithm='auto', leaf_size=30, metric='minkowski',\\n                    metric_params=None, n_jobs=None, n_neighbors=5, p=2,\\n                    weights='uniform')</th>\n",
       "      <td>76.064416</td>\n",
       "    </tr>\n",
       "  </tbody>\n",
       "</table>\n",
       "</div>"
      ],
      "text/plain": [
       "                                                            0\n",
       "LinearRegression(copy_X=True, fit_intercept=Tru...  73.995199\n",
       "Lasso(alpha=1.0, copy_X=True, fit_intercept=Tru...  54.002430\n",
       "Ridge(alpha=1.0, copy_X=True, fit_intercept=Tru...  71.958229\n",
       "ElasticNet(alpha=1.0, copy_X=True, fit_intercep...  60.793338\n",
       "DecisionTreeRegressor(criterion='mse', max_dept...  72.818638\n",
       "KNeighborsRegressor(algorithm='auto', leaf_size...  76.064416"
      ]
     },
     "execution_count": 124,
     "metadata": {},
     "output_type": "execute_result"
    }
   ],
   "source": [
    "# Spot Checking Algorithms - (by converting labels in breast_cancer_data to numeric and applying regression algorithms)\n",
    "\n",
    "import warnings\n",
    "warnings.filterwarnings('ignore')\n",
    "from sklearn.svm import SVR\n",
    "df = pd.read_csv('C:\\\\Users\\\\vardh\\\\Vardhan\\\\ED\\\\breast_cancer_data.csv')\n",
    "df = df.drop(columns=df.iloc[:,[0,-1]])\n",
    "X = df.iloc[:,1::]\n",
    "names = X.columns\n",
    "Y = df.iloc[:,0]\n",
    "Y = pd.get_dummies(Y)\n",
    "model_feature = PCA(random_state=7)\n",
    "feature_fit = model_feature.fit_transform(X)\n",
    "kf = KFold(n_splits=10,shuffle=True,random_state=7)\n",
    "LR = LinearRegression()\n",
    "LS = Lasso()\n",
    "RD = Ridge()\n",
    "EN = ElasticNet()\n",
    "DTC = DecisionTreeRegressor()\n",
    "KNN = KNeighborsRegressor()\n",
    "models = [LR,LS,RD,EN,DTC,KNN]\n",
    "scores = []\n",
    "for i in models:\n",
    "    score = cross_val_score(i,X,Y,cv=kf,scoring='r2').mean()*100\n",
    "    scores.append(score)\n",
    "f_scores = pd.DataFrame(scores,index=models)\n",
    "f_scores"
   ]
  }
 ],
 "metadata": {
  "kernelspec": {
   "display_name": "Python 3",
   "language": "python",
   "name": "python3"
  },
  "language_info": {
   "codemirror_mode": {
    "name": "ipython",
    "version": 3
   },
   "file_extension": ".py",
   "mimetype": "text/x-python",
   "name": "python",
   "nbconvert_exporter": "python",
   "pygments_lexer": "ipython3",
   "version": "3.7.3"
  }
 },
 "nbformat": 4,
 "nbformat_minor": 2
}
