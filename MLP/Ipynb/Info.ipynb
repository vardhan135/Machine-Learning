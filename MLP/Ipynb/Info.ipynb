{
 "cells": [
  {
   "cell_type": "code",
   "execution_count": null,
   "metadata": {},
   "outputs": [],
   "source": [
    "# Supervised Learing  Algorithm - where there is labeled data for training and prediction \n",
    "\n",
    "# 1. Classification - where the data is a category or class - (such as colours, spam not spam, ratings et al.), usually\n",
    "#                     Clustering algorithms are preferred.\n",
    "\n",
    "# Example : Naive-Bayes - Using to predict class of the label using bayes probability"
   ]
  }
 ],
 "metadata": {
  "kernelspec": {
   "display_name": "Python 3",
   "language": "python",
   "name": "python3"
  },
  "language_info": {
   "codemirror_mode": {
    "name": "ipython",
    "version": 3
   },
   "file_extension": ".py",
   "mimetype": "text/x-python",
   "name": "python",
   "nbconvert_exporter": "python",
   "pygments_lexer": "ipython3",
   "version": "3.7.3"
  }
 },
 "nbformat": 4,
 "nbformat_minor": 2
}
