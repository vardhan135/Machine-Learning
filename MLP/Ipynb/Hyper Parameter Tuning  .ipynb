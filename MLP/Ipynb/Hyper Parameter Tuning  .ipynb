{
 "cells": [
  {
   "cell_type": "code",
   "execution_count": 1,
   "metadata": {},
   "outputs": [],
   "source": [
    "# HyperParameterTuning - Each algorithm in machine learning is provided with parameters which could increase the accruracy\n",
    "#                        of the model. These parameters of the algorithm are called hyperparameters and tuning these is \n",
    "#                        called HyperParameter Tuning\n",
    "\n",
    "# HyperParameters can be tuned using following methods\n",
    "#       1. Grid Search Parameter Tuning \n",
    "#       2. Random Search Parameter Tuning"
   ]
  },
  {
   "cell_type": "code",
   "execution_count": 47,
   "metadata": {},
   "outputs": [
    {
     "name": "stdout",
     "output_type": "stream",
     "text": [
      "0.7051130051399428\n",
      "0.001\n",
      "0.6991085132487854\n",
      "0.02144790295450394\n"
     ]
    }
   ],
   "source": [
    "# GridSearchCV - Selects the best parameters for the algorithm from the given grid\n",
    "import warnings\n",
    "warnings.filterwarnings('ignore')\n",
    "\n",
    "import numpy as np\n",
    "import pandas as pd\n",
    "from scipy.stats import uniform\n",
    "from sklearn.linear_model import Ridge\n",
    "from sklearn.model_selection import GridSearchCV\n",
    "from sklearn.model_selection import RandomizedSearchCV\n",
    "df = pd.read_csv('C:\\\\Users\\\\vardh\\\\Vardhan\\\\ED\\\\breast_cancer_data.csv')\n",
    "df = df.drop(columns=df.iloc[:,[0,-1]])\n",
    "X = df.iloc[:,1::]\n",
    "Y = df.iloc[:,0]\n",
    "Y = pd.get_dummies(Y)\n",
    "alphas = np.array([1,0.1,0.01,0.001,0.0001])\n",
    "param = dict(alpha=alphas)\n",
    "params = {'alpha':uniform()}\n",
    "estimator = Ridge()\n",
    "gst = GridSearchCV(estimator,param_grid=param)\n",
    "rst = RandomizedSearchCV(estimator,param_distributions=params)\n",
    "gst.fit(X,Y)\n",
    "rst.fit(X,Y)\n",
    "print(gst.best_score_)\n",
    "print(gst.best_estimator_.alpha)\n",
    "print(rst.best_score_)\n",
    "print(rst.best_estimator_.alpha)"
   ]
  }
 ],
 "metadata": {
  "kernelspec": {
   "display_name": "Python 3",
   "language": "python",
   "name": "python3"
  },
  "language_info": {
   "codemirror_mode": {
    "name": "ipython",
    "version": 3
   },
   "file_extension": ".py",
   "mimetype": "text/x-python",
   "name": "python",
   "nbconvert_exporter": "python",
   "pygments_lexer": "ipython3",
   "version": "3.7.3"
  }
 },
 "nbformat": 4,
 "nbformat_minor": 2
}
